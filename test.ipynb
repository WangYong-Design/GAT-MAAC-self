{
 "cells": [
  {
   "cell_type": "code",
   "execution_count": 2,
   "metadata": {
    "collapsed": true
   },
   "outputs": [
    {
     "data": {
      "text/plain": "array([[1, 2, 3],\n       [4, 5, 6]])"
     },
     "execution_count": 2,
     "metadata": {},
     "output_type": "execute_result"
    }
   ],
   "source": [
    "import numpy as np\n",
    "\n",
    "o = list()\n",
    "a = np.array([1,2,3])\n",
    "b = np.array([4,5,6])\n",
    "# np.concatenate([a,b],axis = 1)\n",
    "o.append(a)\n",
    "o.append(b)\n",
    "np.array(o)"
   ]
  },
  {
   "cell_type": "code",
   "execution_count": 10,
   "outputs": [
    {
     "data": {
      "text/plain": "['T_destination',\n '__annotations__',\n '__call__',\n '__class__',\n '__delattr__',\n '__dict__',\n '__dir__',\n '__doc__',\n '__eq__',\n '__format__',\n '__ge__',\n '__getattr__',\n '__getattribute__',\n '__gt__',\n '__hash__',\n '__init__',\n '__init_subclass__',\n '__le__',\n '__lt__',\n '__module__',\n '__ne__',\n '__new__',\n '__reduce__',\n '__reduce_ex__',\n '__repr__',\n '__setattr__',\n '__setstate__',\n '__sizeof__',\n '__str__',\n '__subclasshook__',\n '__weakref__',\n '_apply',\n '_backward_hooks',\n '_buffers',\n '_call_impl',\n '_forward_hooks',\n '_forward_pre_hooks',\n '_get_backward_hooks',\n '_get_name',\n '_init_weight',\n '_is_full_backward_hook',\n '_load_from_state_dict',\n '_load_state_dict_pre_hooks',\n '_maybe_warn_non_full_backward_hook',\n '_modules',\n '_named_members',\n '_non_persistent_buffers_set',\n '_parameters',\n '_register_load_state_dict_pre_hook',\n '_register_state_dict_hook',\n '_replicate_for_data_parallel',\n '_save_to_state_dict',\n '_slow_forward',\n '_state_dict_hooks',\n '_version',\n 'add_module',\n 'apply',\n 'bfloat16',\n 'buffers',\n 'children',\n 'cpu',\n 'cuda',\n 'double',\n 'dump_patches',\n 'eval',\n 'extra_repr',\n 'fc1',\n 'fc2',\n 'float',\n 'forward',\n 'get_buffer',\n 'get_parameter',\n 'get_submodule',\n 'half',\n 'load_state_dict',\n 'modules',\n 'named_buffers',\n 'named_children',\n 'named_modules',\n 'named_parameters',\n 'parameters',\n 'register_backward_hook',\n 'register_buffer',\n 'register_forward_hook',\n 'register_forward_pre_hook',\n 'register_full_backward_hook',\n 'register_parameter',\n 'requires_grad_',\n 'share_memory',\n 'state_dict',\n 'to',\n 'to_empty',\n 'train',\n 'training',\n 'type',\n 'xpu',\n 'zero_grad']"
     },
     "execution_count": 10,
     "metadata": {},
     "output_type": "execute_result"
    }
   ],
   "source": [
    "import torch\n",
    "import torch.nn as nn\n",
    "import torch.optim as optim\n",
    "\n",
    "class model(nn.Module):\n",
    "    def __init__(self,input_dim,hidden_dim,output_dim):\n",
    "        super(model, self).__init__()\n",
    "        self.fc1 = nn.Sequential(\n",
    "            nn.Linear(input_dim,hidden_dim),\n",
    "            nn.ReLU()\n",
    "        )\n",
    "\n",
    "        self.fc2 = nn.Sequential(\n",
    "            nn.Linear(hidden_dim,hidden_dim),\n",
    "            nn.ReLU()\n",
    "        )\n",
    "\n",
    "        self.fc2.add_module(\"output_layer\",nn.Linear(hidden_dim,output_dim))\n",
    "\n",
    "        self.fc2.apply(self._init_weight)\n",
    "\n",
    "    def _init_weight(self,m):\n",
    "        if type(m) == nn.Linear:\n",
    "            nn.init.normal_(m.weight, 0.0, 1)\n",
    "\n",
    "    def forward(self,obs):\n",
    "        h = self.fc1(obs)\n",
    "        out = self.fc2(h)\n",
    "        return out\n",
    "\n",
    "a = model(64,128,1)\n",
    "# for name,param in a.named_parameters():\n",
    "#     print(name,param)\n",
    "\n",
    "optimizer = optim.Adam(a.parameters(),lr=0.1)\n",
    "# optimizer.param_groups[0]\n",
    "#\n",
    "# a.state_dict()\n",
    "dir(a)"
   ],
   "metadata": {
    "collapsed": false,
    "pycharm": {
     "name": "#%%\n"
    }
   }
  },
  {
   "cell_type": "code",
   "execution_count": 6,
   "outputs": [
    {
     "ename": "TypeError",
     "evalue": "only integer scalar arrays can be converted to a scalar index",
     "output_type": "error",
     "traceback": [
      "\u001B[1;31m---------------------------------------------------------------------------\u001B[0m",
      "\u001B[1;31mTypeError\u001B[0m                                 Traceback (most recent call last)",
      "\u001B[1;32m~\\AppData\\Local\\Temp/ipykernel_1660/4083208792.py\u001B[0m in \u001B[0;36m<module>\u001B[1;34m\u001B[0m\n\u001B[0;32m      3\u001B[0m \u001B[1;32mdef\u001B[0m \u001B[0mtest\u001B[0m\u001B[1;33m(\u001B[0m\u001B[0mlist1\u001B[0m\u001B[1;33m)\u001B[0m\u001B[1;33m:\u001B[0m\u001B[1;33m\u001B[0m\u001B[1;33m\u001B[0m\u001B[0m\n\u001B[0;32m      4\u001B[0m     \u001B[0mprint\u001B[0m\u001B[1;33m(\u001B[0m\u001B[0mlist1\u001B[0m\u001B[1;33m)\u001B[0m\u001B[1;33m\u001B[0m\u001B[1;33m\u001B[0m\u001B[0m\n\u001B[1;32m----> 5\u001B[1;33m \u001B[0mtest\u001B[0m\u001B[1;33m(\u001B[0m\u001B[0mtest_list\u001B[0m\u001B[1;33m[\u001B[0m\u001B[0m_\u001B[0m\u001B[1;33m]\u001B[0m\u001B[1;33m)\u001B[0m\u001B[1;33m\u001B[0m\u001B[1;33m\u001B[0m\u001B[0m\n\u001B[0m\u001B[0;32m      6\u001B[0m \u001B[1;33m\u001B[0m\u001B[0m\n\u001B[0;32m      7\u001B[0m \u001B[1;33m\u001B[0m\u001B[0m\n",
      "\u001B[1;31mTypeError\u001B[0m: only integer scalar arrays can be converted to a scalar index"
     ]
    }
   ],
   "source": [
    "test_list = [1,2,3,4]\n",
    "\n",
    "def test(list1):\n",
    "    print(list1)\n"
   ],
   "metadata": {
    "collapsed": false,
    "pycharm": {
     "name": "#%%\n"
    }
   }
  },
  {
   "cell_type": "code",
   "execution_count": 41,
   "outputs": [
    {
     "data": {
      "text/plain": "array([[1, 4],\n       [2, 5],\n       [3, 6]])"
     },
     "execution_count": 41,
     "metadata": {},
     "output_type": "execute_result"
    }
   ],
   "source": [
    "from collections import namedtuple\n",
    "import numpy as np\n",
    "Transition = namedtuple('test',['a','b','c'])\n",
    "\n",
    "trans = Transition(1,2,3)\n",
    "trans2 = Transition(4,5,6)\n",
    "buffer = []\n",
    "buffer.append(trans)\n",
    "buffer.append(trans2)\n",
    "trans3 = Transition(*zip(*buffer))\n",
    "np.array(list(zip(*buffer)))"
   ],
   "metadata": {
    "collapsed": false,
    "pycharm": {
     "name": "#%%\n"
    }
   }
  },
  {
   "cell_type": "code",
   "execution_count": 36,
   "outputs": [
    {
     "data": {
      "text/plain": "[('a', 'a'), ('b', 'b'), ('c', 'c')]"
     },
     "execution_count": 36,
     "metadata": {},
     "output_type": "execute_result"
    }
   ],
   "source": [
    "a = dict(a=1,b=2,c=3)\n",
    "b = dict(a=4,b=5,c=6)\n",
    "buffer2 = []\n",
    "buffer2.append(a)\n",
    "buffer2.append(b)\n",
    "list(zip(*buffer2))"
   ],
   "metadata": {
    "collapsed": false,
    "pycharm": {
     "name": "#%%\n"
    }
   }
  },
  {
   "cell_type": "code",
   "execution_count": 38,
   "outputs": [
    {
     "data": {
      "text/plain": "test(a=4, b=5, c=6)"
     },
     "execution_count": 38,
     "metadata": {},
     "output_type": "execute_result"
    }
   ],
   "source": [],
   "metadata": {
    "collapsed": false,
    "pycharm": {
     "name": "#%%\n"
    }
   }
  },
  {
   "cell_type": "code",
   "execution_count": 39,
   "outputs": [
    {
     "data": {
      "text/plain": "{'a': 1, 'b': 2, 'c': 3}"
     },
     "execution_count": 39,
     "metadata": {},
     "output_type": "execute_result"
    }
   ],
   "source": [
    "def make_pyg_graphs(batch, n_neighbors=25):\n",
    "    graph_list = []\n",
    "    topk_distances, indices = torch.topk(torch.cdist(batch, batch),k=n_neighbors + 1,largest=False)\n",
    "    for i in range(batch.size(0)):\n",
    "        x = batch[i]\n",
    "        u = indices[i, :, 1:].flatten()\n",
    "        v = indices[i, :, 0:1].repeat(1, n_neighbors).flatten()\n",
    "        edge_index = torch.stack([u, v])\n",
    "        edge_attr = topk_distances[i, :, 1:].view(-1, 1)\n",
    "        g = pyg.data.Data(x=x, edge_index=edge_index, edge_attr=edge_attr)\n",
    "        graph_list.append(g)\n",
    "    return pyg.data.Batch.from_data_list(graph_list).to(batch.device)"
   ],
   "metadata": {
    "collapsed": false,
    "pycharm": {
     "name": "#%%\n"
    }
   }
  },
  {
   "cell_type": "code",
   "execution_count": null,
   "outputs": [],
   "source": [],
   "metadata": {
    "collapsed": false,
    "pycharm": {
     "name": "#%%\n"
    }
   }
  }
 ],
 "metadata": {
  "kernelspec": {
   "display_name": "Python 3",
   "language": "python",
   "name": "python3"
  },
  "language_info": {
   "codemirror_mode": {
    "name": "ipython",
    "version": 2
   },
   "file_extension": ".py",
   "mimetype": "text/x-python",
   "name": "python",
   "nbconvert_exporter": "python",
   "pygments_lexer": "ipython2",
   "version": "2.7.6"
  }
 },
 "nbformat": 4,
 "nbformat_minor": 0
}